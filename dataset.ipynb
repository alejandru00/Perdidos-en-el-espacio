{
 "cells": [
  {
   "attachments": {},
   "cell_type": "markdown",
   "metadata": {},
   "source": [
    "# PERDIDOS EN EL ESPACIO:\n",
    "\n",
    "En nuestro ejercicios buscamos saber en que planeta nos encontramos en cada una de las dos situaciones, únicamente dejando caer una pelota y conociendo la aceleración de la gravedad.\n",
    "\n",
    "-Caso 1:\n",
    "    L=1.00 m y t=0.46 s.\n",
    "\n",
    "-Caso 2:\n",
    "    L=2.00 m y t=0.66 s. \n",
    "\n",
    "Para ello aplicaremos las formulas para encoontrar los valores experimentales de g, sus errores, y compararemos estos datos."
   ]
  },
  {
   "cell_type": "code",
   "execution_count": 1,
   "metadata": {},
   "outputs": [],
   "source": [
    "# importamos las librerias necesarias\n",
    "import pandas \n",
    "import faker \n",
    "import random \n",
    "import numpy \n",
    "import pandas as pd\n",
    "import faker as fk\n",
    "import random as rd\n",
    "import numpy as np"
   ]
  },
  {
   "cell_type": "code",
   "execution_count": 2,
   "metadata": {},
   "outputs": [],
   "source": [
    "# presentamos los planetas y sus gravedades\n",
    "grav_values = {\n",
    "    \"Tierra\": 9.8,\n",
    "    \"Marte\": 3.7,\n",
    "    \"Júpiter\": 24.8,\n",
    "    \"Saturno\": 9.0,\n",
    "    \"Urano\": 8.7,\n",
    "    \"Neptuno\": 11.0\n",
    "}"
   ]
  },
  {
   "cell_type": "code",
   "execution_count": 3,
   "metadata": {},
   "outputs": [
    {
     "name": "stdout",
     "output_type": "stream",
     "text": [
      "La aceleración de la gravedad es:  9.45179584120983\n"
     ]
    }
   ],
   "source": [
    "# APARTADO A\n",
    "L1 = 1.00                       # longitud \n",
    "t1 = 0.46                       # tiempo en caer la pelota\n",
    "g1 = 2*L1 / (t1**2)             # calculo de la aceleración en este caso\n",
    "\n",
    "print(\"La aceleración de la gravedad es: \", g1)"
   ]
  },
  {
   "cell_type": "code",
   "execution_count": 4,
   "metadata": {},
   "outputs": [
    {
     "name": "stdout",
     "output_type": "stream",
     "text": [
      "La aceleración de la gravedad es:  9.45179584120983\n"
     ]
    }
   ],
   "source": [
    "# APARTADO B\n",
    "L2 = 2.00                       # longitud \n",
    "t2 = 0.66                       # tiempo en caer la pelota\n",
    "g2 = 2*L1 / (t1**2)             # calculo de la aceleración en este caso\n",
    "\n",
    "print(\"La aceleración de la gravedad es: \", g2)"
   ]
  },
  {
   "cell_type": "code",
   "execution_count": 5,
   "metadata": {},
   "outputs": [
    {
     "name": "stdout",
     "output_type": "stream",
     "text": [
      "             Longitud  Tiempo  Gravedad\n",
      "Escenario A       1.0    0.46  9.451796\n",
      "Escenario B       2.0    0.66  9.451796\n"
     ]
    }
   ],
   "source": [
    "# dataframe de lps datos\n",
    "df = pd.DataFrame({\n",
    "    'Longitud': [L1, L2],\n",
    "    'Tiempo': [t1, t2],\n",
    "    'Gravedad': [g1, g2],}, index= ['Escenario A', 'Escenario B'])\n",
    "print(df)"
   ]
  },
  {
   "attachments": {},
   "cell_type": "markdown",
   "metadata": {},
   "source": [
    "# Dataset \n",
    "## de las variables que proporciona faker para crear 1000 datos experimentales DE espacio y tiempo."
   ]
  },
  {
   "cell_type": "code",
   "execution_count": 6,
   "metadata": {},
   "outputs": [
    {
     "data": {
      "text/html": [
       "<div>\n",
       "<style scoped>\n",
       "    .dataframe tbody tr th:only-of-type {\n",
       "        vertical-align: middle;\n",
       "    }\n",
       "\n",
       "    .dataframe tbody tr th {\n",
       "        vertical-align: top;\n",
       "    }\n",
       "\n",
       "    .dataframe thead th {\n",
       "        text-align: right;\n",
       "    }\n",
       "</style>\n",
       "<table border=\"1\" class=\"dataframe\">\n",
       "  <thead>\n",
       "    <tr style=\"text-align: right;\">\n",
       "      <th></th>\n",
       "      <th>ID</th>\n",
       "      <th>Length (m)</th>\n",
       "      <th>Time (s)</th>\n",
       "      <th>Calculated Gravity (m/s²)</th>\n",
       "      <th>Most Likely Planet</th>\n",
       "      <th>Second Most Likely</th>\n",
       "      <th>Third Most Likely</th>\n",
       "    </tr>\n",
       "  </thead>\n",
       "  <tbody>\n",
       "    <tr>\n",
       "      <th>0</th>\n",
       "      <td>6ec68908-1f27-4f7e-8c90-9f41da6a1cd7</td>\n",
       "      <td>1.18</td>\n",
       "      <td>0.60</td>\n",
       "      <td>6.56</td>\n",
       "      <td>Urano</td>\n",
       "      <td>Saturno</td>\n",
       "      <td>Marte</td>\n",
       "    </tr>\n",
       "    <tr>\n",
       "      <th>1</th>\n",
       "      <td>407a5042-08f4-4a8c-b185-328e221b1ac7</td>\n",
       "      <td>2.49</td>\n",
       "      <td>0.65</td>\n",
       "      <td>11.79</td>\n",
       "      <td>Neptuno</td>\n",
       "      <td>Tierra</td>\n",
       "      <td>Saturno</td>\n",
       "    </tr>\n",
       "    <tr>\n",
       "      <th>2</th>\n",
       "      <td>91697dc6-5bea-4549-998b-3a4aa837e9f2</td>\n",
       "      <td>1.28</td>\n",
       "      <td>0.58</td>\n",
       "      <td>7.61</td>\n",
       "      <td>Urano</td>\n",
       "      <td>Saturno</td>\n",
       "      <td>Tierra</td>\n",
       "    </tr>\n",
       "    <tr>\n",
       "      <th>3</th>\n",
       "      <td>395b6b40-63a6-4a68-9224-ae0908ef9d49</td>\n",
       "      <td>0.97</td>\n",
       "      <td>0.51</td>\n",
       "      <td>7.46</td>\n",
       "      <td>Urano</td>\n",
       "      <td>Saturno</td>\n",
       "      <td>Tierra</td>\n",
       "    </tr>\n",
       "    <tr>\n",
       "      <th>4</th>\n",
       "      <td>c0e1942b-9c6f-40fb-9d17-ffb75c05e5f7</td>\n",
       "      <td>1.19</td>\n",
       "      <td>0.61</td>\n",
       "      <td>6.40</td>\n",
       "      <td>Urano</td>\n",
       "      <td>Saturno</td>\n",
       "      <td>Marte</td>\n",
       "    </tr>\n",
       "    <tr>\n",
       "      <th>...</th>\n",
       "      <td>...</td>\n",
       "      <td>...</td>\n",
       "      <td>...</td>\n",
       "      <td>...</td>\n",
       "      <td>...</td>\n",
       "      <td>...</td>\n",
       "      <td>...</td>\n",
       "    </tr>\n",
       "    <tr>\n",
       "      <th>995</th>\n",
       "      <td>8708ce4f-23f6-4dfb-ab9d-1e8dc19d75c7</td>\n",
       "      <td>1.94</td>\n",
       "      <td>0.61</td>\n",
       "      <td>10.43</td>\n",
       "      <td>Neptuno</td>\n",
       "      <td>Tierra</td>\n",
       "      <td>Saturno</td>\n",
       "    </tr>\n",
       "    <tr>\n",
       "      <th>996</th>\n",
       "      <td>e3916763-68ba-4611-8358-63eabbb48a65</td>\n",
       "      <td>2.08</td>\n",
       "      <td>0.58</td>\n",
       "      <td>12.37</td>\n",
       "      <td>Neptuno</td>\n",
       "      <td>Tierra</td>\n",
       "      <td>Saturno</td>\n",
       "    </tr>\n",
       "    <tr>\n",
       "      <th>997</th>\n",
       "      <td>a165eb23-e490-4c41-9443-cad261c9e849</td>\n",
       "      <td>1.92</td>\n",
       "      <td>0.70</td>\n",
       "      <td>7.84</td>\n",
       "      <td>Urano</td>\n",
       "      <td>Saturno</td>\n",
       "      <td>Tierra</td>\n",
       "    </tr>\n",
       "    <tr>\n",
       "      <th>998</th>\n",
       "      <td>bba6a321-1b7d-4136-82c7-c9c2729f878a</td>\n",
       "      <td>1.61</td>\n",
       "      <td>0.44</td>\n",
       "      <td>16.63</td>\n",
       "      <td>Neptuno</td>\n",
       "      <td>Tierra</td>\n",
       "      <td>Saturno</td>\n",
       "    </tr>\n",
       "    <tr>\n",
       "      <th>999</th>\n",
       "      <td>23ab9f72-10ab-41a7-b8a9-2b322ac57b0f</td>\n",
       "      <td>1.40</td>\n",
       "      <td>0.65</td>\n",
       "      <td>6.63</td>\n",
       "      <td>Urano</td>\n",
       "      <td>Saturno</td>\n",
       "      <td>Marte</td>\n",
       "    </tr>\n",
       "  </tbody>\n",
       "</table>\n",
       "<p>1000 rows × 7 columns</p>\n",
       "</div>"
      ],
      "text/plain": [
       "                                       ID  Length (m)  Time (s)  \\\n",
       "0    6ec68908-1f27-4f7e-8c90-9f41da6a1cd7        1.18      0.60   \n",
       "1    407a5042-08f4-4a8c-b185-328e221b1ac7        2.49      0.65   \n",
       "2    91697dc6-5bea-4549-998b-3a4aa837e9f2        1.28      0.58   \n",
       "3    395b6b40-63a6-4a68-9224-ae0908ef9d49        0.97      0.51   \n",
       "4    c0e1942b-9c6f-40fb-9d17-ffb75c05e5f7        1.19      0.61   \n",
       "..                                    ...         ...       ...   \n",
       "995  8708ce4f-23f6-4dfb-ab9d-1e8dc19d75c7        1.94      0.61   \n",
       "996  e3916763-68ba-4611-8358-63eabbb48a65        2.08      0.58   \n",
       "997  a165eb23-e490-4c41-9443-cad261c9e849        1.92      0.70   \n",
       "998  bba6a321-1b7d-4136-82c7-c9c2729f878a        1.61      0.44   \n",
       "999  23ab9f72-10ab-41a7-b8a9-2b322ac57b0f        1.40      0.65   \n",
       "\n",
       "     Calculated Gravity (m/s²) Most Likely Planet Second Most Likely  \\\n",
       "0                         6.56              Urano            Saturno   \n",
       "1                        11.79            Neptuno             Tierra   \n",
       "2                         7.61              Urano            Saturno   \n",
       "3                         7.46              Urano            Saturno   \n",
       "4                         6.40              Urano            Saturno   \n",
       "..                         ...                ...                ...   \n",
       "995                      10.43            Neptuno             Tierra   \n",
       "996                      12.37            Neptuno             Tierra   \n",
       "997                       7.84              Urano            Saturno   \n",
       "998                      16.63            Neptuno             Tierra   \n",
       "999                       6.63              Urano            Saturno   \n",
       "\n",
       "    Third Most Likely  \n",
       "0               Marte  \n",
       "1             Saturno  \n",
       "2              Tierra  \n",
       "3              Tierra  \n",
       "4               Marte  \n",
       "..                ...  \n",
       "995           Saturno  \n",
       "996           Saturno  \n",
       "997            Tierra  \n",
       "998           Saturno  \n",
       "999             Marte  \n",
       "\n",
       "[1000 rows x 7 columns]"
      ]
     },
     "execution_count": 6,
     "metadata": {},
     "output_type": "execute_result"
    }
   ],
   "source": [
    "from faker import Faker\n",
    "\n",
    "fake_data = Faker()\n",
    "\n",
    "def create_sample():\n",
    "    L_value = round(random.uniform(0.8, 2.5), 2)\n",
    "    t_value = round(random.uniform(0.4, 0.7), 2)\n",
    "    calc_grav = round((2 * L_value) / (t_value**2), 2)\n",
    "    \n",
    "    grav_diffs = {planet: abs(calc_grav - g) for planet, g in grav_values.items()}\n",
    " \n",
    "    sorted_planets_list = sorted(grav_diffs.keys(), key=lambda x: grav_diffs[x])\n",
    "    \n",
    "    top_three_planets = sorted_planets_list[:3]\n",
    "\n",
    "    return {\n",
    "        \"ID\": fake_data.uuid4(),\n",
    "        \"Length (m)\": L_value,\n",
    "        \"Time (s)\": t_value,\n",
    "        \"Calculated Gravity (m/s²)\": calc_grav,\n",
    "        \"Most Likely Planet\": top_three_planets[0],\n",
    "        \"Second Most Likely\": top_three_planets[1],\n",
    "        \"Third Most Likely\": top_three_planets[2]\n",
    "    }\n",
    "\n",
    "\n",
    "sample_data = [create_sample() for _ in range(1000)]\n",
    "\n",
    "csv_filename = \"planet_dataset.csv\"\n",
    "df = pd.DataFrame(sample_data)\n",
    "df.to_csv(csv_filename, index=False)\n",
    "\n",
    "filepath = \"planet_dataset.csv\"\n",
    "data_frame = pd.read_csv(filepath)\n",
    "\n",
    "data_frame.head(1000)"
   ]
  },
  {
   "attachments": {},
   "cell_type": "markdown",
   "metadata": {},
   "source": [
    "# RESOLUCIÓN DE EJERCICIOS."
   ]
  },
  {
   "cell_type": "code",
   "execution_count": 7,
   "metadata": {},
   "outputs": [
    {
     "name": "stdout",
     "output_type": "stream",
     "text": [
      "   Gravedad medida (g)  Error en la medición de g\n",
      "0             9.451796                   0.623626\n",
      "Rango de valores posibles para g: 8.83 m/s² a 10.08 m/s²\n",
      "\n",
      "La tripulación podría estar en los siguientes planetas:\n",
      "  Tierra (g = 9.8 m/s²)\n",
      "  Saturno (g = 9.0 m/s²)\n"
     ]
    }
   ],
   "source": [
    "delta_L = 0.01  # m\n",
    "delta_t = 0.015  # s\n",
    "\n",
    "\n",
    "dg_dL1 = 2 / t1**2\n",
    "dg_dt1 = -4 * L1 / t1**3\n",
    "\n",
    "delta_g1 = np.sqrt((dg_dL1 * delta_L)**2 + (dg_dt1 * delta_t)**2)\n",
    "\n",
    "df = pd.DataFrame({'Gravedad medida (g)': [g1],\n",
    "                   'Error en la medición de g': [delta_g1]})\n",
    "\n",
    "print(df)\n",
    "\n",
    "lower_range1 = g1 - delta_g1\n",
    "upper_range1 = g1 + delta_g1\n",
    "\n",
    "print(f\"Rango de valores posibles para g: {lower_range1:.2f} m/s² a {upper_range1:.2f} m/s²\\n\")\n",
    "\n",
    "\n",
    "possible_planets1 = [planet for planet, planet_g in grav_values.items() if lower_range1 <= planet_g <= upper_range1]\n",
    "\n",
    "print(\"La tripulación podría estar en los siguientes planetas:\")\n",
    "for planet in possible_planets1:\n",
    "    print(f\"  {planet} (g = {grav_values[planet]} m/s²)\")"
   ]
  },
  {
   "cell_type": "code",
   "execution_count": 8,
   "metadata": {},
   "outputs": [
    {
     "name": "stdout",
     "output_type": "stream",
     "text": [
      "   Gravedad medida (g)  Error en la medición de g\n",
      "0             9.451796                   0.419915\n",
      "Rango de valores posibles para g: 9.03 m/s² a 9.87 m/s²\n",
      "\n",
      "La tripulación podría estar en los siguientes planetas:\n",
      "  Tierra (g = 9.8 m/s²)\n"
     ]
    }
   ],
   "source": [
    "delta_L = 0.01  # m\n",
    "delta_t = 0.015  # s\n",
    "\n",
    "dg_dL2 = 2 / t2**2\n",
    "dg_dt2 = -4 * L2 / t2**3\n",
    "\n",
    "delta_g2 = np.sqrt((dg_dL2 * delta_L)**2 + (dg_dt2 * delta_t)**2)\n",
    "\n",
    "df = pd.DataFrame({'Gravedad medida (g)': [g2],\n",
    "                   'Error en la medición de g': [delta_g2]})\n",
    "\n",
    "print(df)\n",
    "\n",
    "lower_range2 = g2 - delta_g2\n",
    "upper_range2 = g2 + delta_g2\n",
    "\n",
    "print(f\"Rango de valores posibles para g: {lower_range2:.2f} m/s² a {upper_range2:.2f} m/s²\\n\")\n",
    "\n",
    "\n",
    "possible_planets2 = [planet for planet, planet_g in grav_values.items() if lower_range2 <= planet_g <= upper_range2]\n",
    "\n",
    "print(\"La tripulación podría estar en los siguientes planetas:\")\n",
    "for planet in possible_planets2:\n",
    "    print(f\"  {planet} (g = {grav_values[planet]} m/s²)\")"
   ]
  },
  {
   "attachments": {},
   "cell_type": "markdown",
   "metadata": {},
   "source": [
    "# Data st para los dos planetas del apartado A que nos ha dado"
   ]
  }
 ],
 "metadata": {
  "kernelspec": {
   "display_name": "Python 3",
   "language": "python",
   "name": "python3"
  },
  "language_info": {
   "codemirror_mode": {
    "name": "ipython",
    "version": 3
   },
   "file_extension": ".py",
   "mimetype": "text/x-python",
   "name": "python",
   "nbconvert_exporter": "python",
   "pygments_lexer": "ipython3",
   "version": "3.10.11"
  },
  "orig_nbformat": 4
 },
 "nbformat": 4,
 "nbformat_minor": 2
}
