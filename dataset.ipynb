{
 "cells": [
  {
   "attachments": {},
   "cell_type": "markdown",
   "metadata": {},
   "source": [
    "En nuestro ejercicios buscamos saber en que planeta nos encontramos en cada una de las dos situaciones, únicamente dejando caer una pelota y conociendo la aceleración de la gravedad.\n",
    "\n",
    "-Caso 1:\n",
    "    L=1.00 m y t=0.46 s.\n",
    "\n",
    "-Caso 2:\n",
    "    L=2.00 m y t=0.66 s. \n",
    "\n",
    "Para ello aplicaremos las formulas para encoontrar los valores experimentales de g, sus errores, y compararemos estos datos."
   ]
  },
  {
   "cell_type": "code",
   "execution_count": null,
   "metadata": {},
   "outputs": [],
   "source": [
    "# importamos las librerias necesarias\n",
    "import pandas as pd\n",
    "import faker as fk\n",
    "import random as rd\n",
    "import numpy as np"
   ]
  },
  {
   "cell_type": "code",
   "execution_count": null,
   "metadata": {},
   "outputs": [],
   "source": [
    "# presentamos los planetas y sus gravedades\n",
    "planetas = {\n",
    "    \"Tierra\": 9.8,\n",
    "    \"Marte\": 3.7,\n",
    "    \"Júpiter\": 24.8,\n",
    "    \"Saturno\": 9.0,\n",
    "    \"Urano\": 8.7,\n",
    "    \"Neptuno\": 11.0\n",
    "}"
   ]
  },
  {
   "cell_type": "code",
   "execution_count": null,
   "metadata": {},
   "outputs": [],
   "source": [
    "# APARTADO A\n",
    "L1 = 1.00                       # longitud \n",
    "t1 = 0.46                       # tiempo en caer la pelota\n",
    "g1 = 2*L1 / (t1**2)            # calculo de la aceleración en este caso\n",
    "\n",
    "print(\"La aceleración de la gravedad es: \", g1)"
   ]
  },
  {
   "cell_type": "code",
   "execution_count": null,
   "metadata": {},
   "outputs": [
    {
     "ename": "",
     "evalue": "",
     "output_type": "error",
     "traceback": [
      "\u001b[1;31mLa ejecución de celdas con 'c:\\Users\\aleja\\AppData\\Local\\Microsoft\\WindowsApps\\python3.10.exe' requiere el paquete ipykernel.\n",
      "\u001b[1;31mRun the following command to install 'ipykernel' into the Python environment. \n",
      "\u001b[1;31mCommand: 'c:/Users/aleja/AppData/Local/Microsoft/WindowsApps/python3.10.exe -m pip install ipykernel -U --user --force-reinstall'"
     ]
    }
   ],
   "source": [
    "# APARTADO B\n",
    "L2 = 2.00                       # longitud \n",
    "t2 = 0.66                       # tiempo en caer la pelota\n",
    "g2 = 2*L1 / (t1**2)            # calculo de la aceleración en este caso\n",
    "\n",
    "print(\"La aceleración de la gravedad es: \", g2)"
   ]
  },
  {
   "cell_type": "code",
   "execution_count": 1,
   "metadata": {},
   "outputs": [],
   "source": [
    "df = pd.DataFrame({\n",
    "    'Longitud': [L1, L2],\n",
    "    'Tiempo': [t1, t2],\n",
    "    'Gravedad': [g1, g2],}, index= ['Escenario A', 'Escenario B'])"
   ]
  }
 ],
 "metadata": {
  "kernelspec": {
   "display_name": "Python 3",
   "language": "python",
   "name": "python3"
  },
  "language_info": {
   "codemirror_mode": {
    "name": "ipython",
    "version": 3
   },
   "file_extension": ".py",
   "mimetype": "text/x-python",
   "name": "python",
   "nbconvert_exporter": "python",
   "pygments_lexer": "ipython3",
   "version": "3.10.11"
  },
  "orig_nbformat": 4
 },
 "nbformat": 4,
 "nbformat_minor": 2
}
