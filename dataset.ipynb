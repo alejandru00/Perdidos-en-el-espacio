{
 "cells": [
  {
   "attachments": {},
   "cell_type": "markdown",
   "metadata": {},
   "source": [
    "# PERDIDOS EN EL ESPACIO:\n",
    "\n",
    "En nuestro ejercicios buscamos saber en que planeta nos encontramos en cada una de las dos situaciones, únicamente dejando caer una pelota y conociendo la aceleración de la gravedad.\n",
    "\n",
    "-Caso 1:\n",
    "    L=1.00 m y t=0.46 s.\n",
    "\n",
    "-Caso 2:\n",
    "    L=2.00 m y t=0.66 s. \n",
    "\n",
    "Para ello aplicaremos las formulas para encoontrar los valores experimentales de g, sus errores, y compararemos estos datos."
   ]
  },
  {
   "cell_type": "code",
   "execution_count": 39,
   "metadata": {},
   "outputs": [],
   "source": [
    "# importamos las librerias necesarias\n",
    "import pandas as pd\n",
    "import faker as fk\n",
    "import random as rd\n",
    "import numpy as np"
   ]
  },
  {
   "cell_type": "code",
   "execution_count": 40,
   "metadata": {},
   "outputs": [],
   "source": [
    "# presentamos los planetas y sus gravedades\n",
    "grav_values = {\n",
    "    \"Tierra\": 9.8,\n",
    "    \"Marte\": 3.7,\n",
    "    \"Júpiter\": 24.8,\n",
    "    \"Saturno\": 9.0,\n",
    "    \"Urano\": 8.7,\n",
    "    \"Neptuno\": 11.0\n",
    "}"
   ]
  },
  {
   "cell_type": "code",
   "execution_count": 41,
   "metadata": {},
   "outputs": [
    {
     "name": "stdout",
     "output_type": "stream",
     "text": [
      "La aceleración de la gravedad es:  9.45179584120983\n"
     ]
    }
   ],
   "source": [
    "# APARTADO A\n",
    "L1 = 1.00                       # longitud \n",
    "t1 = 0.46                       # tiempo en caer la pelota\n",
    "g1 = 2*L1 / (t1**2)             # calculo de la aceleración en este caso\n",
    "\n",
    "print(\"La aceleración de la gravedad es: \", g1)"
   ]
  },
  {
   "cell_type": "code",
   "execution_count": 42,
   "metadata": {},
   "outputs": [
    {
     "name": "stdout",
     "output_type": "stream",
     "text": [
      "La aceleración de la gravedad es:  9.45179584120983\n"
     ]
    }
   ],
   "source": [
    "# APARTADO B\n",
    "L2 = 2.00                       # longitud \n",
    "t2 = 0.66                       # tiempo en caer la pelota\n",
    "g2 = 2*L1 / (t1**2)             # calculo de la aceleración en este caso\n",
    "\n",
    "print(\"La aceleración de la gravedad es: \", g2)"
   ]
  },
  {
   "cell_type": "code",
   "execution_count": 43,
   "metadata": {},
   "outputs": [
    {
     "name": "stdout",
     "output_type": "stream",
     "text": [
      "             Longitud  Tiempo  Gravedad\n",
      "Escenario A       1.0    0.46  9.451796\n",
      "Escenario B       2.0    0.66  9.451796\n"
     ]
    }
   ],
   "source": [
    "# dataframe de lps datos\n",
    "df = pd.DataFrame({\n",
    "    'Longitud': [L1, L2],\n",
    "    'Tiempo': [t1, t2],\n",
    "    'Gravedad': [g1, g2],}, index= ['Escenario A', 'Escenario B'])\n",
    "print(df)"
   ]
  },
  {
   "attachments": {},
   "cell_type": "markdown",
   "metadata": {},
   "source": [
    "# Dataset \n",
    "## de las variables que proporciona faker para crear 1000 datos experimentales DE espacio y tiempo."
   ]
  },
  {
   "cell_type": "code",
   "execution_count": 49,
   "metadata": {},
   "outputs": [
    {
     "ename": "ModuleNotFoundError",
     "evalue": "No module named 'Faker'",
     "output_type": "error",
     "traceback": [
      "\u001b[1;31m---------------------------------------------------------------------------\u001b[0m",
      "\u001b[1;31mModuleNotFoundError\u001b[0m                       Traceback (most recent call last)",
      "Cell \u001b[1;32mIn[49], line 1\u001b[0m\n\u001b[1;32m----> 1\u001b[0m \u001b[39mimport\u001b[39;00m \u001b[39mFaker\u001b[39;00m\n\u001b[0;32m      3\u001b[0m fake_data \u001b[39m=\u001b[39m Faker()\n\u001b[0;32m      6\u001b[0m \u001b[39mdef\u001b[39;00m \u001b[39mcreate_sample\u001b[39m():\n",
      "\u001b[1;31mModuleNotFoundError\u001b[0m: No module named 'Faker'"
     ]
    }
   ],
   "source": [
    "fake_data = faker()\n",
    "\n",
    "\n",
    "def create_sample():\n",
    "    L_value = round(random.uniform(0.8, 2.5), 2)\n",
    "    t_value = round(random.uniform(0.4, 0.7), 2)\n",
    "    calc_grav = round((2 * L_value) / (t_value**2), 2)\n",
    "    \n",
    "    grav_diffs = {planet: abs(calc_grav - g) for planet, g in grav_values.items()}\n",
    " \n",
    "    sorted_planets_list = sorted(grav_diffs.keys(), key=lambda x: grav_diffs[x])\n",
    "    \n",
    "    top_three_planets = sorted_planets_list[:3]\n",
    "\n",
    "    return {\n",
    "        \"ID\": fake_data.uuid4(),\n",
    "        \"Length (m)\": L_value,\n",
    "        \"Time (s)\": t_value,\n",
    "        \"Calculated Gravity (m/s²)\": calc_grav,\n",
    "        \"Most Likely Planet\": top_three_planets[0],\n",
    "        \"Second Most Likely\": top_three_planets[1],\n",
    "        \"Third Most Likely\": top_three_planets[2]\n",
    "    }\n",
    "\n",
    "\n",
    "sample_data = [create_sample() for _ in range(1000)]\n",
    "\n",
    "csv_filename = \"planet_dataset.csv\"\n",
    "df = pd.DataFrame(sample_data)\n",
    "df.to_csv(csv_filename, index=False)\n",
    "\n",
    "filepath = \"planet_dataset.csv\"\n",
    "data_frame = pd.read_csv(filepath)\n",
    "\n",
    "print(data_frame.head(500))"
   ]
  }
 ],
 "metadata": {
  "kernelspec": {
   "display_name": "Python 3",
   "language": "python",
   "name": "python3"
  },
  "language_info": {
   "codemirror_mode": {
    "name": "ipython",
    "version": 3
   },
   "file_extension": ".py",
   "mimetype": "text/x-python",
   "name": "python",
   "nbconvert_exporter": "python",
   "pygments_lexer": "ipython3",
   "version": "3.10.11"
  },
  "orig_nbformat": 4
 },
 "nbformat": 4,
 "nbformat_minor": 2
}
